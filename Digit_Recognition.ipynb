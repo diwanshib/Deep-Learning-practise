{
  "nbformat": 4,
  "nbformat_minor": 0,
  "metadata": {
    "colab": {
      "name": "Digit Recognition",
      "version": "0.3.2",
      "provenance": [],
      "collapsed_sections": [],
      "include_colab_link": true
    },
    "kernelspec": {
      "name": "python3",
      "display_name": "Python 3"
    }
  },
  "cells": [
    {
      "cell_type": "markdown",
      "metadata": {
        "id": "view-in-github",
        "colab_type": "text"
      },
      "source": [
        "<a href=\"https://colab.research.google.com/github/diwanshib/Deep-Learning-practise/blob/master/Digit_Recognition.ipynb\" target=\"_parent\"><img src=\"https://colab.research.google.com/assets/colab-badge.svg\" alt=\"Open In Colab\"/></a>"
      ]
    },
    {
      "metadata": {
        "id": "dEpBvrp5_vwD",
        "colab_type": "code",
        "outputId": "e40db7e7-da60-499b-a28d-8d1e0a7313bb",
        "colab": {
          "base_uri": "https://localhost:8080/",
          "height": 54
        }
      },
      "cell_type": "code",
      "source": [
        "import cv2 as cv\n",
        "import tensorflow as tf\n",
        "print(cv.__version__)\n",
        "print(tf.__version__)"
      ],
      "execution_count": 0,
      "outputs": [
        {
          "output_type": "stream",
          "text": [
            "3.4.3\n",
            "1.12.0\n"
          ],
          "name": "stdout"
        }
      ]
    },
    {
      "metadata": {
        "id": "zjKX_AXnAH3C",
        "colab_type": "code",
        "colab": {}
      },
      "cell_type": "code",
      "source": [
        "mnist =tf.keras.datasets.mnist\n",
        "(x,y),(x_test, y_test)=mnist.load_data()\n",
        "x=tf.keras.utils.normalize(x,axis =1)\n",
        "x_test=tf.keras.utils.normalize(x_test,axis =1)\n"
      ],
      "execution_count": 0,
      "outputs": []
    },
    {
      "metadata": {
        "id": "s9s4dNXeAkDo",
        "colab_type": "code",
        "outputId": "f434d6f9-a129-432e-f99a-6113c37ee7cf",
        "colab": {
          "base_uri": "https://localhost:8080/",
          "height": 221
        }
      },
      "cell_type": "code",
      "source": [
        "model=tf.keras.models.Sequential()\n",
        "\n",
        "#creating NN\n",
        "model.add(tf.keras.layers.Flatten()) #input layer\n",
        "model.add(tf.keras.layers.Dense(128, activation=tf.nn.relu)) #1st layer\n",
        "model.add(tf.keras.layers.Dense(128, activation=tf.nn.relu)) #2nd layer\n",
        "model.add(tf.keras.layers.Dense(128, activation=tf.nn.relu)) #3rd layer\n",
        "\n",
        "model.add(tf.keras.layers.Dense(10, activation=tf.nn.softmax)) #output layer\n",
        "\n",
        "#training model\n",
        "model.compile(optimizer='adam', loss='sparse_categorical_crossentropy', metrics=['accuracy'])\n",
        "\n",
        "#passing param\n",
        "model.fit(x,y, epochs=5)"
      ],
      "execution_count": 31,
      "outputs": [
        {
          "output_type": "stream",
          "text": [
            "Epoch 1/5\n",
            "60000/60000 [==============================] - 10s 170us/step - loss: 0.2477 - acc: 0.9246\n",
            "Epoch 2/5\n",
            "60000/60000 [==============================] - 9s 150us/step - loss: 0.1055 - acc: 0.9671\n",
            "Epoch 3/5\n",
            "60000/60000 [==============================] - 9s 150us/step - loss: 0.0751 - acc: 0.9761\n",
            "Epoch 4/5\n",
            "60000/60000 [==============================] - 9s 154us/step - loss: 0.0568 - acc: 0.9819\n",
            "Epoch 5/5\n",
            "60000/60000 [==============================] - 9s 151us/step - loss: 0.0448 - acc: 0.9853\n"
          ],
          "name": "stdout"
        },
        {
          "output_type": "execute_result",
          "data": {
            "text/plain": [
              "<tensorflow.python.keras.callbacks.History at 0x7fc67fcf44a8>"
            ]
          },
          "metadata": {
            "tags": []
          },
          "execution_count": 31
        }
      ]
    },
    {
      "metadata": {
        "id": "meTArAREA6y_",
        "colab_type": "code",
        "outputId": "41e49365-6539-42ac-e934-7fc8f1043b27",
        "colab": {
          "base_uri": "https://localhost:8080/",
          "height": 54
        }
      },
      "cell_type": "code",
      "source": [
        "#to check for overfitting of model we do validation by evaluating model on test data\n",
        "val_loss, val_acc=model.evaluate(x_test,y_test)\n",
        "print(val_loss, val_acc)"
      ],
      "execution_count": 32,
      "outputs": [
        {
          "output_type": "stream",
          "text": [
            "10000/10000 [==============================] - 1s 67us/step\n",
            "0.08752902009524405 0.9753\n"
          ],
          "name": "stdout"
        }
      ]
    },
    {
      "metadata": {
        "id": "1rhXF7cnA-_m",
        "colab_type": "code",
        "outputId": "29b7eeaf-0ab1-4ea0-e222-e1b816caf2d3",
        "colab": {
          "base_uri": "https://localhost:8080/",
          "height": 366
        }
      },
      "cell_type": "code",
      "source": [
        ""
      ],
      "execution_count": 40,
      "outputs": [
        {
          "output_type": "execute_result",
          "data": {
            "text/plain": [
              "<matplotlib.image.AxesImage at 0x7fc67f4a47f0>"
            ]
          },
          "metadata": {
            "tags": []
          },
          "execution_count": 40
        },
        {
          "output_type": "display_data",
          "data": {
            "image/png": "[encoded data removed]",
            "text/plain": [
              "<matplotlib.figure.Figure at 0x7fc67f581278>"
            ]
          },
          "metadata": {
            "tags": []
          }
        }
      ]
    },
    {
      "metadata": {
        "id": "Ta3-2U6aE5YG",
        "colab_type": "code",
        "outputId": "e183afa8-9462-4321-8c66-ad3166666815",
        "colab": {
          "base_uri": "https://localhost:8080/",
          "height": 36
        }
      },
      "cell_type": "code",
      "source": [
        ""
      ],
      "execution_count": 41,
      "outputs": [
        {
          "output_type": "execute_result",
          "data": {
            "text/plain": [
              "1"
            ]
          },
          "metadata": {
            "tags": []
          },
          "execution_count": 41
        }
      ]
    },
    {
      "metadata": {
        "id": "WMJKn7yTE7Xw",
        "colab_type": "code",
        "outputId": "1c442e48-938a-45f6-998b-379f2d136569",
        "colab": {
          "base_uri": "https://localhost:8080/",
          "height": 36
        }
      },
      "cell_type": "code",
      "source": [
        "x_test.shape"
      ],
      "execution_count": 0,
      "outputs": [
        {
          "output_type": "execute_result",
          "data": {
            "text/plain": [
              "(10000, 28, 28)"
            ]
          },
          "metadata": {
            "tags": []
          },
          "execution_count": 16
        }
      ]
    },
    {
      "metadata": {
        "id": "NJ1g4XY5E95j",
        "colab_type": "code",
        "colab": {}
      },
      "cell_type": "code",
      "source": [
        ""
      ],
      "execution_count": 0,
      "outputs": []
    }
  ]
}